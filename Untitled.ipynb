{
 "cells": [
  {
   "cell_type": "code",
   "execution_count": 1,
   "id": "4fc93018",
   "metadata": {},
   "outputs": [],
   "source": [
    "import pandas as pd\n",
    "import statistics\n",
    "import numpy\n",
    "import math\n",
    "df = pd.read_csv(\"NIFTY_50_Data.csv\")\n",
    "#df"
   ]
  },
  {
   "cell_type": "code",
   "execution_count": 2,
   "id": "c80bc198",
   "metadata": {},
   "outputs": [
    {
     "data": {
      "text/html": [
       "<div>\n",
       "<style scoped>\n",
       "    .dataframe tbody tr th:only-of-type {\n",
       "        vertical-align: middle;\n",
       "    }\n",
       "\n",
       "    .dataframe tbody tr th {\n",
       "        vertical-align: top;\n",
       "    }\n",
       "\n",
       "    .dataframe thead th {\n",
       "        text-align: right;\n",
       "    }\n",
       "</style>\n",
       "<table border=\"1\" class=\"dataframe\">\n",
       "  <thead>\n",
       "    <tr style=\"text-align: right;\">\n",
       "      <th></th>\n",
       "      <th>Date</th>\n",
       "      <th>Open</th>\n",
       "      <th>High</th>\n",
       "      <th>Low</th>\n",
       "      <th>Close</th>\n",
       "      <th>t+1</th>\n",
       "      <th>t+1%</th>\n",
       "    </tr>\n",
       "  </thead>\n",
       "  <tbody>\n",
       "    <tr>\n",
       "      <th>0</th>\n",
       "      <td>30 Dec 2014</td>\n",
       "      <td>8260.30</td>\n",
       "      <td>8268.25</td>\n",
       "      <td>8220.55</td>\n",
       "      <td>8248.2</td>\n",
       "      <td></td>\n",
       "      <td></td>\n",
       "    </tr>\n",
       "    <tr>\n",
       "      <th>1</th>\n",
       "      <td>29 Dec 2014</td>\n",
       "      <td>8214.70</td>\n",
       "      <td>8279.15</td>\n",
       "      <td>8214.70</td>\n",
       "      <td>8246.3</td>\n",
       "      <td></td>\n",
       "      <td></td>\n",
       "    </tr>\n",
       "    <tr>\n",
       "      <th>2</th>\n",
       "      <td>26 Dec 2014</td>\n",
       "      <td>8204.80</td>\n",
       "      <td>8234.55</td>\n",
       "      <td>8147.95</td>\n",
       "      <td>8200.7</td>\n",
       "      <td></td>\n",
       "      <td></td>\n",
       "    </tr>\n",
       "    <tr>\n",
       "      <th>3</th>\n",
       "      <td>24 Dec 2014</td>\n",
       "      <td>8272.05</td>\n",
       "      <td>8286.40</td>\n",
       "      <td>8155.25</td>\n",
       "      <td>8174.1</td>\n",
       "      <td></td>\n",
       "      <td></td>\n",
       "    </tr>\n",
       "    <tr>\n",
       "      <th>4</th>\n",
       "      <td>23 Dec 2014</td>\n",
       "      <td>8324.60</td>\n",
       "      <td>8364.75</td>\n",
       "      <td>8252.85</td>\n",
       "      <td>8267.0</td>\n",
       "      <td></td>\n",
       "      <td></td>\n",
       "    </tr>\n",
       "  </tbody>\n",
       "</table>\n",
       "</div>"
      ],
      "text/plain": [
       "          Date     Open     High      Low   Close t+1 t+1%\n",
       "0  30 Dec 2014  8260.30  8268.25  8220.55  8248.2         \n",
       "1  29 Dec 2014  8214.70  8279.15  8214.70  8246.3         \n",
       "2  26 Dec 2014  8204.80  8234.55  8147.95  8200.7         \n",
       "3  24 Dec 2014  8272.05  8286.40  8155.25  8174.1         \n",
       "4  23 Dec 2014  8324.60  8364.75  8252.85  8267.0         "
      ]
     },
     "execution_count": 2,
     "metadata": {},
     "output_type": "execute_result"
    }
   ],
   "source": [
    "#df.isnull().sum()\n",
    "#creating an empty column t+1\n",
    "df['t+1']=''\n",
    "#creating an empty column t+1%\n",
    "df['t+1%']=''\n",
    "df.head()"
   ]
  },
  {
   "cell_type": "code",
   "execution_count": 3,
   "id": "4743fd46",
   "metadata": {},
   "outputs": [],
   "source": [
    "#Sample testing\n",
    "#df.iloc[0:1,3]"
   ]
  },
  {
   "cell_type": "code",
   "execution_count": 4,
   "id": "8f7e663a",
   "metadata": {},
   "outputs": [],
   "source": [
    "#sample\n",
    "#i=1\n",
    "#a = df.iloc[i-1:i,4]\n",
    "#b = df.iloc[i:i+1,4]\n",
    "#print(round(float(a)-float(b),2))\n",
    "#print(int(b))"
   ]
  },
  {
   "cell_type": "code",
   "execution_count": 5,
   "id": "65e35f1e",
   "metadata": {},
   "outputs": [],
   "source": [
    "#adding values to the column 't+1', 't+1%'\n",
    "for i in range(1,244):\n",
    "    a = df.iloc[i-1:i,4]\n",
    "    b = df.iloc[i:i+1,4]\n",
    "    c = round(float(a)-float(b),2)\n",
    "    #adding data to t+1 column\n",
    "    df.iloc[i:i+1,5]=c\n",
    "    #adding data to t+1% column\n",
    "    df.iloc[i:i+1,6]=round((c*100/float(b)),2)"
   ]
  },
  {
   "cell_type": "code",
   "execution_count": 6,
   "id": "4ab94b90",
   "metadata": {},
   "outputs": [],
   "source": [
    "#df.head()"
   ]
  },
  {
   "cell_type": "code",
   "execution_count": 7,
   "id": "4f85e48e",
   "metadata": {},
   "outputs": [],
   "source": [
    "df['t+1'] = pd.to_numeric(df['t+1'])\n",
    "df['t+1%'] = pd.to_numeric(df['t+1%'])"
   ]
  },
  {
   "cell_type": "code",
   "execution_count": 8,
   "id": "4adf848a",
   "metadata": {},
   "outputs": [
    {
     "name": "stdout",
     "output_type": "stream",
     "text": [
      "No of Observations = 243\n",
      "win trades = 142\n",
      "%wins = 58.43621399176955\n",
      "avg = 8.0\n",
      "Median = 10.0\n",
      "Max = 199.0\n",
      "Min = -163.9\n",
      "gross Profit = 6431.6\n",
      "gross Loss = -4487.4\n",
      "Profit Factor = 1.43\n",
      "OAPF = 1.39\n",
      "Standard deviation of t+1 = 58.68\n",
      "t-test = 2.13\n"
     ]
    }
   ],
   "source": [
    "no_of_observations = df['Date'].count() -1\n",
    "#subtract 1 because indexing starts from 0\n",
    "print(\"No of Observations =\",no_of_observations)\n",
    "#win trades is the no of observations for which t+1%>=0\n",
    "win_trades = (df['t+1%']>=0).sum()\n",
    "#win_trades>=0 will give true or false, sum will count the trues\n",
    "print(\"win trades =\",win_trades)\n",
    "# %wins as percent_wins\n",
    "percent_wins = (win_trades/no_of_observations)*100\n",
    "print(\"%wins =\",percent_wins)\n",
    "#calculating avg\n",
    "avg = round(numpy.mean(df['t+1']),2)\n",
    "print(\"avg =\",avg)\n",
    "#calculating median\n",
    "med = statistics.median(df['t+1'])\n",
    "print(\"Median =\",med)\n",
    "print(\"Max =\",df['t+1'].max())\n",
    "print(\"Min =\",df['t+1'].min())\n",
    "#Gross Profit ==> sum of all t+1 values which are >0\n",
    "grspft = df.loc[df['t+1']>0,'t+1'].sum()\n",
    "print(\"gross Profit =\",grspft)\n",
    "#Gross Loss ==> sum of all t+1 values which are <=0\n",
    "grsloss = df.loc[df['t+1']<=0,'t+1'].sum()\n",
    "print(\"gross Loss =\",grsloss)\n",
    "#profit factor = ABS(grspft/grsloss)\n",
    "pftfactr = round(abs(grspft/grsloss),2)\n",
    "print(\"Profit Factor =\",pftfactr)\n",
    "#OAPF = (grspft-max)/grsloss\n",
    "OAPF = round(abs((grspft-df['t+1'].max())/grsloss),2)\n",
    "print(\"OAPF =\",OAPF)\n",
    "#Standard deviation of t+1 column\n",
    "Stdev = round(numpy.std(df['t+1']),2)\n",
    "print(\"Standard deviation of t+1 =\", Stdev)\n",
    "#t-test = avg*sqrt(no of observations)/stdev\n",
    "t_test = round(avg*(numpy.sqrt(no_of_observations))/Stdev,2)\n",
    "print(\"t-test =\",t_test)"
   ]
  },
  {
   "cell_type": "code",
   "execution_count": 9,
   "id": "1212b582",
   "metadata": {},
   "outputs": [
    {
     "name": "stdout",
     "output_type": "stream",
     "text": [
      "P-val = 0.02\n",
      "1/p-val = 58.52\n"
     ]
    }
   ],
   "source": [
    "#########\n",
    "#########\n",
    "#########\n",
    "#P-val(one tailed)  will be calculated using ttest, degrees of freedom(no of observations)\n",
    "from scipy.stats import t\n",
    "#t.cdf(x=abs(t_test), df=no_of_observations)\n",
    "p_val = t.sf(abs(t_test), df=no_of_observations)\n",
    "print(\"P-val =\",round(p_val,2))\n",
    "#1/P-val\n",
    "p_val_inverse = 1/p_val \n",
    "print(\"1/p-val =\",round(p_val_inverse,2))"
   ]
  },
  {
   "cell_type": "code",
   "execution_count": 10,
   "id": "f6d6cc1c",
   "metadata": {},
   "outputs": [
    {
     "name": "stdout",
     "output_type": "stream",
     "text": [
      "quartile1 = -22.4\n",
      "quartile3 = 38.5\n",
      "IQR = 60.9\n",
      "-ve outlier = -113.75\n",
      "+ve outlier = 129.85\n"
     ]
    }
   ],
   "source": [
    "# First quartile (Q1)\n",
    "Q1 = numpy.nanpercentile(df['t+1'], 25)\n",
    "print(\"quartile1 =\",Q1)\n",
    "# Third quartile (Q3)\n",
    "Q3 = numpy.nanpercentile(df['t+1'], 75)\n",
    "print(\"quartile3 =\",Q3)\n",
    "# Interquaritle range (IQR)\n",
    "IQR = Q3 - Q1\n",
    "print(\"IQR =\", IQR)\n",
    "#-ve outlier\n",
    "neg_outlier = Q1-1.5*IQR\n",
    "print(\"-ve outlier =\",neg_outlier)\n",
    "#%-veoutlier\n",
    "\n",
    "\n",
    "#+ve outlier\n",
    "postv_outlier = Q3+1.5*IQR\n",
    "print(\"+ve outlier =\",postv_outlier)\n",
    "#%+ve outlier\n",
    "\n"
   ]
  },
  {
   "cell_type": "code",
   "execution_count": 11,
   "id": "44525d33",
   "metadata": {},
   "outputs": [],
   "source": [
    "df['postv_seq']=''\n",
    "df['negtv_seq']=''\n",
    "df['pos_seq_points']=''\n",
    "df['neg_seq_points']=''"
   ]
  },
  {
   "cell_type": "code",
   "execution_count": 12,
   "id": "12482b14",
   "metadata": {},
   "outputs": [],
   "source": [
    "#for loop for postv_seq column\n",
    "for i in range(243,0,-1):\n",
    "    a = df.iloc[i:i+1,5]  # t+1 value\n",
    "    if(i==243):\n",
    "        c = 0\n",
    "    else:\n",
    "        c = df.iloc[i+1:i+2,7]\n",
    "    if(float(a)>0):\n",
    "        df.iloc[i:i+1,7]=1+c\n",
    "    else:\n",
    "        df.iloc[i:i+1,7]=0\n",
    "#for loop for neg_seq column\n",
    "for i in range(243,0,-1):\n",
    "    a = df.iloc[i:i+1,6] # t+1% value\n",
    "    if(i==243):\n",
    "        c = 0\n",
    "    else:\n",
    "        c = df.iloc[i+1:i+2,8]\n",
    "    if(float(a)<=0):\n",
    "        df.iloc[i:i+1,8]=1+c\n",
    "    else:\n",
    "        df.iloc[i:i+1,8]=0\n",
    "#for loop for pos_seq_points column\n",
    "for i in range(243,0,-1):\n",
    "    a = df.iloc[i:i+1,5]\n",
    "    if(i==243):\n",
    "        c = 0\n",
    "    else:\n",
    "        c = df.iloc[i+1:i+2,9] #post_seq value\n",
    "    if(float(a)>0):\n",
    "        df.iloc[i:i+1,9]=a+float(c)\n",
    "    else:\n",
    "        df.iloc[i:i+1,9]=0\n",
    "#for loop for neg_seq_points column\n",
    "for i in range(243,0,-1):\n",
    "    a = df.iloc[i:i+1,6]\n",
    "    b = df.iloc[i:i+1,5] \n",
    "    if(i==243):\n",
    "        c = 0\n",
    "    else:\n",
    "        c = df.iloc[i+1:i+2,10]  # neg_seq value\n",
    "    if(float(a)<=0):\n",
    "        df.iloc[i:i+1,10]=float(b)+float(c)\n",
    "    else:\n",
    "        df.iloc[i:i+1,10]=0"
   ]
  },
  {
   "cell_type": "code",
   "execution_count": 13,
   "id": "085d7873",
   "metadata": {},
   "outputs": [],
   "source": [
    "#df.tail(10)\n",
    "#df.iloc[243:244,7]"
   ]
  },
  {
   "cell_type": "code",
   "execution_count": 14,
   "id": "102843be",
   "metadata": {},
   "outputs": [],
   "source": [
    "df['Eq_Curve']=''"
   ]
  },
  {
   "cell_type": "code",
   "execution_count": 15,
   "id": "ffeaf6a3",
   "metadata": {},
   "outputs": [],
   "source": [
    "# for loop for Eq_Curve\n",
    "for i in range(243,0,-1):\n",
    "    a = df.iloc[i:i+1,5]\n",
    "    if(i == 243):\n",
    "        b = 200000 ##initial input\n",
    "    else:\n",
    "        b = df.iloc[i+1:i+2,11]\n",
    "    df.iloc[i:i+1,11]= b + 50*float(a)"
   ]
  },
  {
   "cell_type": "code",
   "execution_count": 16,
   "id": "e740ce01",
   "metadata": {},
   "outputs": [],
   "source": [
    "df['DD']=''"
   ]
  },
  {
   "cell_type": "code",
   "execution_count": 17,
   "id": "0fbf2380",
   "metadata": {},
   "outputs": [],
   "source": [
    "#converting Eq_Curve into numeric column\n",
    "df['Eq_Curve']=pd.to_numeric(df['Eq_Curve'])"
   ]
  },
  {
   "cell_type": "code",
   "execution_count": 18,
   "id": "1cbb50c6",
   "metadata": {},
   "outputs": [],
   "source": [
    "# for loop for DD column\n",
    "#creating a variable temp_max_eq for DD calculation\n",
    "temp_max_eq = df.iloc[243:244,11].item()\n",
    "for i in range(243,0,-1):\n",
    "    a = df.iloc[i:i+1,11].item()\n",
    "    if(a>temp_max_eq):\n",
    "        temp_max_eq=a\n",
    "    b = temp_max_eq\n",
    "    df.iloc[i:i+1,12]= int(a*100/b-100)"
   ]
  },
  {
   "cell_type": "code",
   "execution_count": 19,
   "id": "1791d2a4",
   "metadata": {},
   "outputs": [],
   "source": [
    "#temp_max_eq = df.iloc[243:244,11]\n",
    "#print(temp_max_eq)\n",
    "#temp_max_eq.item()"
   ]
  },
  {
   "cell_type": "code",
   "execution_count": 20,
   "id": "14475df8",
   "metadata": {},
   "outputs": [],
   "source": [
    "df['postv_seq']=pd.to_numeric(df['postv_seq'])\n",
    "df['negtv_seq']=pd.to_numeric(df['negtv_seq'])\n",
    "df['pos_seq_points']=pd.to_numeric(df['pos_seq_points'])\n",
    "df['neg_seq_points']=pd.to_numeric(df['neg_seq_points'])\n",
    "df['DD']=pd.to_numeric(df['DD'])"
   ]
  },
  {
   "cell_type": "code",
   "execution_count": 21,
   "id": "5b21c869",
   "metadata": {},
   "outputs": [
    {
     "name": "stdout",
     "output_type": "stream",
     "text": [
      "MaxConsWins = 10.0\n",
      "MaxConLoss = 5.0\n",
      "MaxConWinPts 456.2\n",
      "MaxConLossPts = -333.0\n",
      "MaxDD = -8.0\n"
     ]
    }
   ],
   "source": [
    "MaxConWins = df['postv_seq'].max()\n",
    "print(\"MaxConsWins =\",MaxConWins)\n",
    "MaxConLoss = df['negtv_seq'].max()\n",
    "print(\"MaxConLoss =\",MaxConLoss)\n",
    "MaxConWinPts = df['pos_seq_points'].max()\n",
    "print(\"MaxConWinPts\",round(MaxConWinPts,2))\n",
    "MaxConLossPts = df['neg_seq_points'].min()\n",
    "print(\"MaxConLossPts =\",MaxConLossPts)\n",
    "MaxDD = df['DD'].min()\n",
    "print(\"MaxDD =\",MaxDD)"
   ]
  },
  {
   "cell_type": "code",
   "execution_count": 22,
   "id": "1f666685",
   "metadata": {},
   "outputs": [
    {
     "name": "stdout",
     "output_type": "stream",
     "text": [
      "Start Capital = 200000\n",
      "End Capital = 297210.0\n",
      "Start Date = 31 Dec 2013\n",
      "End Date = 30 Dec 2014\n",
      "CAGR = 48.61\n",
      "No of wins = 142\n",
      "Adj no of wins = 130.08\n",
      "No of Losses = 101\n",
      "Adj no of losses = 111.05\n"
     ]
    }
   ],
   "source": [
    "Start_Capital = 200000\n",
    "print(\"Start Capital =\",Start_Capital)\n",
    "End_Capital = df.iloc[1:2,11].item()\n",
    "print(\"End Capital =\",End_Capital)\n",
    "Start_Date = df.iloc[243:,0].item()\n",
    "print(\"Start Date =\",Start_Date)\n",
    "End_Date = df.iloc[:1,0].item()\n",
    "print(\"End Date =\",End_Date)\n",
    "#No_of_yrs = End_Date - Start_Date\n",
    "#print(\"No of years =\", //365)\n",
    "#CAGR = ((End_Capital/Start_Capital)**(1/No_of_yrs))*100-100\n",
    "CAGR = ((End_Capital/Start_Capital)**(1/1))*100-100\n",
    "print(\"CAGR =\",round(CAGR,2))\n",
    "No_of_wins = win_trades\n",
    "print(\"No of wins =\",No_of_wins)\n",
    "Adj_no_of_wins = win_trades - math.sqrt(win_trades)\n",
    "print(\"Adj no of wins =\",round(Adj_no_of_wins,2))\n",
    "no_of_losses = no_of_observations - win_trades\n",
    "print(\"No of Losses =\", no_of_losses)\n",
    "Adj_no_of_losses = no_of_losses + math.sqrt(no_of_losses)\n",
    "print(\"Adj no of losses =\",round(Adj_no_of_losses,2))"
   ]
  },
  {
   "cell_type": "code",
   "execution_count": 23,
   "id": "9eba5757",
   "metadata": {},
   "outputs": [],
   "source": [
    "df['DD_Date']=''\n",
    "#for loop for DD_Date column\n",
    "for i in range(243,0,-1):\n",
    "    a = df.iloc[i:i+1,12].item()\n",
    "    if(a==0):\n",
    "        df.iloc[i:i+1,13]=df.iloc[i:i+1,0]\n",
    "    else:\n",
    "        df.iloc[i:i+1,13]=df.iloc[i+1:i+2,13]"
   ]
  },
  {
   "cell_type": "code",
   "execution_count": 27,
   "id": "478608e5",
   "metadata": {},
   "outputs": [
    {
     "data": {
      "text/html": [
       "<div>\n",
       "<style scoped>\n",
       "    .dataframe tbody tr th:only-of-type {\n",
       "        vertical-align: middle;\n",
       "    }\n",
       "\n",
       "    .dataframe tbody tr th {\n",
       "        vertical-align: top;\n",
       "    }\n",
       "\n",
       "    .dataframe thead th {\n",
       "        text-align: right;\n",
       "    }\n",
       "</style>\n",
       "<table border=\"1\" class=\"dataframe\">\n",
       "  <thead>\n",
       "    <tr style=\"text-align: right;\">\n",
       "      <th></th>\n",
       "      <th>Date</th>\n",
       "      <th>Open</th>\n",
       "      <th>High</th>\n",
       "      <th>Low</th>\n",
       "      <th>Close</th>\n",
       "      <th>t+1</th>\n",
       "      <th>t+1%</th>\n",
       "      <th>postv_seq</th>\n",
       "      <th>negtv_seq</th>\n",
       "      <th>pos_seq_points</th>\n",
       "      <th>neg_seq_points</th>\n",
       "      <th>Eq_Curve</th>\n",
       "      <th>DD</th>\n",
       "      <th>DD_Date</th>\n",
       "      <th>DD_time</th>\n",
       "    </tr>\n",
       "  </thead>\n",
       "  <tbody>\n",
       "    <tr>\n",
       "      <th>0</th>\n",
       "      <td>2014-12-30</td>\n",
       "      <td>8260.30</td>\n",
       "      <td>8268.25</td>\n",
       "      <td>8220.55</td>\n",
       "      <td>8248.2</td>\n",
       "      <td>NaN</td>\n",
       "      <td>NaN</td>\n",
       "      <td>NaN</td>\n",
       "      <td>NaN</td>\n",
       "      <td>NaN</td>\n",
       "      <td>NaN</td>\n",
       "      <td>NaN</td>\n",
       "      <td>NaN</td>\n",
       "      <td>NaT</td>\n",
       "      <td></td>\n",
       "    </tr>\n",
       "    <tr>\n",
       "      <th>1</th>\n",
       "      <td>2014-12-29</td>\n",
       "      <td>8214.70</td>\n",
       "      <td>8279.15</td>\n",
       "      <td>8214.70</td>\n",
       "      <td>8246.3</td>\n",
       "      <td>1.9</td>\n",
       "      <td>0.02</td>\n",
       "      <td>3.0</td>\n",
       "      <td>0.0</td>\n",
       "      <td>74.1</td>\n",
       "      <td>0.0</td>\n",
       "      <td>297210.0</td>\n",
       "      <td>-5.0</td>\n",
       "      <td>2014-12-04</td>\n",
       "      <td>25 days 00:00:00</td>\n",
       "    </tr>\n",
       "    <tr>\n",
       "      <th>2</th>\n",
       "      <td>2014-12-26</td>\n",
       "      <td>8204.80</td>\n",
       "      <td>8234.55</td>\n",
       "      <td>8147.95</td>\n",
       "      <td>8200.7</td>\n",
       "      <td>45.6</td>\n",
       "      <td>0.56</td>\n",
       "      <td>2.0</td>\n",
       "      <td>0.0</td>\n",
       "      <td>72.2</td>\n",
       "      <td>0.0</td>\n",
       "      <td>297115.0</td>\n",
       "      <td>-5.0</td>\n",
       "      <td>2014-12-04</td>\n",
       "      <td>22 days 00:00:00</td>\n",
       "    </tr>\n",
       "    <tr>\n",
       "      <th>3</th>\n",
       "      <td>2014-12-24</td>\n",
       "      <td>8272.05</td>\n",
       "      <td>8286.40</td>\n",
       "      <td>8155.25</td>\n",
       "      <td>8174.1</td>\n",
       "      <td>26.6</td>\n",
       "      <td>0.33</td>\n",
       "      <td>1.0</td>\n",
       "      <td>0.0</td>\n",
       "      <td>26.6</td>\n",
       "      <td>0.0</td>\n",
       "      <td>294835.0</td>\n",
       "      <td>-6.0</td>\n",
       "      <td>2014-12-04</td>\n",
       "      <td>20 days 00:00:00</td>\n",
       "    </tr>\n",
       "    <tr>\n",
       "      <th>4</th>\n",
       "      <td>2014-12-23</td>\n",
       "      <td>8324.60</td>\n",
       "      <td>8364.75</td>\n",
       "      <td>8252.85</td>\n",
       "      <td>8267.0</td>\n",
       "      <td>-92.9</td>\n",
       "      <td>-1.12</td>\n",
       "      <td>0.0</td>\n",
       "      <td>2.0</td>\n",
       "      <td>0.0</td>\n",
       "      <td>-149.9</td>\n",
       "      <td>293505.0</td>\n",
       "      <td>-6.0</td>\n",
       "      <td>2014-12-04</td>\n",
       "      <td>19 days 00:00:00</td>\n",
       "    </tr>\n",
       "  </tbody>\n",
       "</table>\n",
       "</div>"
      ],
      "text/plain": [
       "        Date     Open     High      Low   Close   t+1  t+1%  postv_seq  \\\n",
       "0 2014-12-30  8260.30  8268.25  8220.55  8248.2   NaN   NaN        NaN   \n",
       "1 2014-12-29  8214.70  8279.15  8214.70  8246.3   1.9  0.02        3.0   \n",
       "2 2014-12-26  8204.80  8234.55  8147.95  8200.7  45.6  0.56        2.0   \n",
       "3 2014-12-24  8272.05  8286.40  8155.25  8174.1  26.6  0.33        1.0   \n",
       "4 2014-12-23  8324.60  8364.75  8252.85  8267.0 -92.9 -1.12        0.0   \n",
       "\n",
       "   negtv_seq  pos_seq_points  neg_seq_points  Eq_Curve   DD    DD_Date  \\\n",
       "0        NaN             NaN             NaN       NaN  NaN        NaT   \n",
       "1        0.0            74.1             0.0  297210.0 -5.0 2014-12-04   \n",
       "2        0.0            72.2             0.0  297115.0 -5.0 2014-12-04   \n",
       "3        0.0            26.6             0.0  294835.0 -6.0 2014-12-04   \n",
       "4        2.0             0.0          -149.9  293505.0 -6.0 2014-12-04   \n",
       "\n",
       "            DD_time  \n",
       "0                    \n",
       "1  25 days 00:00:00  \n",
       "2  22 days 00:00:00  \n",
       "3  20 days 00:00:00  \n",
       "4  19 days 00:00:00  "
      ]
     },
     "execution_count": 27,
     "metadata": {},
     "output_type": "execute_result"
    }
   ],
   "source": [
    "df.head()"
   ]
  },
  {
   "cell_type": "code",
   "execution_count": 25,
   "id": "97c1459e",
   "metadata": {},
   "outputs": [],
   "source": [
    "#\n",
    "df['Date'] = pd.to_datetime(df['Date'])\n",
    "df['DD_Date'] = pd.to_datetime(df['DD_Date'])"
   ]
  },
  {
   "cell_type": "code",
   "execution_count": 26,
   "id": "0369440e",
   "metadata": {},
   "outputs": [],
   "source": [
    "df['DD_time']=''\n",
    "#for loop for DD_time column\n",
    "for i in range(243,0,-1):\n",
    "    a = df.iloc[i:i+1,0].item()\n",
    "    b = df.iloc[i:i+1,13].item()\n",
    "    df.iloc[i:i+1,14] = a-b"
   ]
  },
  {
   "cell_type": "code",
   "execution_count": 34,
   "id": "48f3b613",
   "metadata": {},
   "outputs": [
    {
     "data": {
      "text/plain": [
       "1    25 days 00:00:00\n",
       "Name: DD_time, dtype: object"
      ]
     },
     "execution_count": 34,
     "metadata": {},
     "output_type": "execute_result"
    }
   ],
   "source": [
    "df.iloc[1:2,14]"
   ]
  },
  {
   "cell_type": "code",
   "execution_count": null,
   "id": "3593ff61",
   "metadata": {},
   "outputs": [],
   "source": [
    "df['PnL']=''\n",
    "#for loop for PnL column\n"
   ]
  }
 ],
 "metadata": {
  "kernelspec": {
   "display_name": "Python 3",
   "language": "python",
   "name": "python3"
  },
  "language_info": {
   "codemirror_mode": {
    "name": "ipython",
    "version": 3
   },
   "file_extension": ".py",
   "mimetype": "text/x-python",
   "name": "python",
   "nbconvert_exporter": "python",
   "pygments_lexer": "ipython3",
   "version": "3.8.8"
  }
 },
 "nbformat": 4,
 "nbformat_minor": 5
}
